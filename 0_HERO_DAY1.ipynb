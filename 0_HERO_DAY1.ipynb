{
  "nbformat": 4,
  "nbformat_minor": 0,
  "metadata": {
    "colab": {
      "name": "0-HERO DAY1.ipynb",
      "provenance": []
    },
    "kernelspec": {
      "name": "python3",
      "display_name": "Python 3"
    },
    "language_info": {
      "name": "python"
    }
  },
  "cells": [
    {
      "cell_type": "code",
      "metadata": {
        "colab": {
          "base_uri": "https://localhost:8080/"
        },
        "id": "ARTg4edBbJez",
        "outputId": "9b27b4a8-0ced-4392-9443-c505c6577b5e"
      },
      "source": [
        "print(\"hello coders\")"
      ],
      "execution_count": 1,
      "outputs": [
        {
          "output_type": "stream",
          "text": [
            "hello coders\n"
          ],
          "name": "stdout"
        }
      ]
    },
    {
      "cell_type": "code",
      "metadata": {
        "colab": {
          "base_uri": "https://localhost:8080/"
        },
        "id": "r-_dcfxGcdYj",
        "outputId": "f99d8b76-f7d8-4a5e-f0cf-f8409a2cbcf4"
      },
      "source": [
        "a= 26\n",
        "print(a)\n",
        "x = 30\n",
        "print(type(x))\n",
        "x = 70.60\n",
        "print((type(x)))\n",
        "print(\"Mahi's Six was the biggest\")\n",
        "\n",
        "\n",
        "\n"
      ],
      "execution_count": 25,
      "outputs": [
        {
          "output_type": "stream",
          "text": [
            "26\n",
            "<class 'int'>\n",
            "<class 'float'>\n",
            "Mahi's Six was the biggest\n"
          ],
          "name": "stdout"
        }
      ]
    },
    {
      "cell_type": "code",
      "metadata": {
        "colab": {
          "base_uri": "https://localhost:8080/"
        },
        "id": "TSxpGc0fitdT",
        "outputId": "80b582c0-b8b3-444d-d487-e0b78f5ccc26"
      },
      "source": [
        "a = 10\n",
        "print(id(a))\n",
        "b = 20\n",
        "print(id(b))"
      ],
      "execution_count": 27,
      "outputs": [
        {
          "output_type": "stream",
          "text": [
            "94335520578336\n",
            "94335520578656\n"
          ],
          "name": "stdout"
        }
      ]
    },
    {
      "cell_type": "code",
      "metadata": {
        "colab": {
          "base_uri": "https://localhost:8080/"
        },
        "id": "BTCr_bkUjBwx",
        "outputId": "8d5e5ee2-d3c6-445e-a7e8-3d63f1ce0b4d"
      },
      "source": [
        "a = b = c = 10\n",
        "print(a)\n",
        "print(b)\n",
        "print(c)"
      ],
      "execution_count": 28,
      "outputs": [
        {
          "output_type": "stream",
          "text": [
            "10\n",
            "10\n",
            "10\n"
          ],
          "name": "stdout"
        }
      ]
    },
    {
      "cell_type": "code",
      "metadata": {
        "colab": {
          "base_uri": "https://localhost:8080/"
        },
        "id": "Fp1fSyYKj23V",
        "outputId": "3046daca-1b48-4ad3-9535-8238d0c06eef"
      },
      "source": [
        " a = b = c = 10\n",
        "print(a,  end =  ' ')\n",
        "print(b,  end = ' ')\n",
        "print(c)\n",
        "print(a, b, c)"
      ],
      "execution_count": 36,
      "outputs": [
        {
          "output_type": "stream",
          "text": [
            "10 10 10\n",
            "10 10 10\n"
          ],
          "name": "stdout"
        }
      ]
    },
    {
      "cell_type": "code",
      "metadata": {
        "colab": {
          "base_uri": "https://localhost:8080/"
        },
        "id": "QNDEnhpFk_6r",
        "outputId": "1f5f7cf8-51e4-46f1-d311-cbeff2954b81"
      },
      "source": [
        "a, b, c= 30, 50, 70\n",
        "print(a, b, c)"
      ],
      "execution_count": 37,
      "outputs": [
        {
          "output_type": "stream",
          "text": [
            "30 50 70\n"
          ],
          "name": "stdout"
        }
      ]
    },
    {
      "cell_type": "code",
      "metadata": {
        "colab": {
          "base_uri": "https://localhost:8080/"
        },
        "id": "8KnMT0k_lcZn",
        "outputId": "461f11e8-24e3-4dd6-903e-28893b9e0939"
      },
      "source": [
        "# Input\n",
        "# adding two values\n",
        "a = int(input('enter first value'))\n",
        "b = int(input('enter second value'))\n",
        "res= a + b\n",
        "print(f' sum: {res}')\n"
      ],
      "execution_count": 48,
      "outputs": [
        {
          "output_type": "stream",
          "text": [
            "enter first value 40\n",
            "enter second value 40\n",
            " sum: 80\n"
          ],
          "name": "stdout"
        }
      ]
    },
    {
      "cell_type": "code",
      "metadata": {
        "colab": {
          "base_uri": "https://localhost:8080/"
        },
        "id": "oE2P6J8PnnlY",
        "outputId": "1e7362bc-6f29-4f2f-c23b-c9e36421508b"
      },
      "source": [
        "a = b = c = 10\n",
        "print(id(a), id(b), id(c))\n",
        "b = 20\n",
        "print(id(a), id(b), id(c))\n",
        "print(a, b, c)"
      ],
      "execution_count": 51,
      "outputs": [
        {
          "output_type": "stream",
          "text": [
            "94335520578336 94335520578336 94335520578336\n",
            "94335520578336 94335520578656 94335520578336\n",
            "10 20 10\n"
          ],
          "name": "stdout"
        }
      ]
    },
    {
      "cell_type": "code",
      "metadata": {
        "colab": {
          "base_uri": "https://localhost:8080/"
        },
        "id": "0YUmyO1lj0fr",
        "outputId": "b415000b-8618-45f7-9f21-1a7e6a8609b0"
      },
      "source": [
        "# LIST\n",
        "li = [10, 20, 30, 40, 50]\n",
        "print(type(li))"
      ],
      "execution_count": 1,
      "outputs": [
        {
          "output_type": "stream",
          "text": [
            "<class 'list'>\n"
          ],
          "name": "stdout"
        }
      ]
    },
    {
      "cell_type": "code",
      "metadata": {
        "colab": {
          "base_uri": "https://localhost:8080/"
        },
        "id": "4YRurCgwRC5A",
        "outputId": "18beccfb-b5e2-40d6-8a9f-c90bf699726b"
      },
      "source": [
        "li = [10, 50.5, 'hello', \"coders\", 12+5j]\n",
        "print(li)"
      ],
      "execution_count": 9,
      "outputs": [
        {
          "output_type": "stream",
          "text": [
            "[10, 50.5, 'hello', 'coders', (12+5j)]\n"
          ],
          "name": "stdout"
        }
      ]
    },
    {
      "cell_type": "code",
      "metadata": {
        "colab": {
          "base_uri": "https://localhost:8080/"
        },
        "id": "yPtUYaGMRH9n",
        "outputId": "85298f13-153d-4266-9515-19a2e826bbc4"
      },
      "source": [
        "print(li[2])"
      ],
      "execution_count": 10,
      "outputs": [
        {
          "output_type": "stream",
          "text": [
            "hello\n"
          ],
          "name": "stdout"
        }
      ]
    },
    {
      "cell_type": "code",
      "metadata": {
        "colab": {
          "base_uri": "https://localhost:8080/"
        },
        "id": "W_W10EZeR8DF",
        "outputId": "f69a0385-eced-4eef-af05-d2268239f6cf"
      },
      "source": [
        "li = [5, 7, 0, 8, 6]\n",
        "print(li)\n",
        "print(5 in li)"
      ],
      "execution_count": 12,
      "outputs": [
        {
          "output_type": "stream",
          "text": [
            "[5, 7, 0, 8, 6]\n",
            "True\n"
          ],
          "name": "stdout"
        }
      ]
    },
    {
      "cell_type": "code",
      "metadata": {
        "colab": {
          "base_uri": "https://localhost:8080/"
        },
        "id": "XkUdEH3iTFt3",
        "outputId": "e6a27629-6c87-42b6-f4e6-557f022269e1"
      },
      "source": [
        "print(9 in li)"
      ],
      "execution_count": 13,
      "outputs": [
        {
          "output_type": "stream",
          "text": [
            "False\n"
          ],
          "name": "stdout"
        }
      ]
    },
    {
      "cell_type": "code",
      "metadata": {
        "colab": {
          "base_uri": "https://localhost:8080/"
        },
        "id": "bmkYq69MTOB4",
        "outputId": "b7f59536-e193-4fa4-e63f-1e7499658287"
      },
      "source": [
        "li = [1, 2, 3]\n",
        "print(li * 5)"
      ],
      "execution_count": 14,
      "outputs": [
        {
          "output_type": "stream",
          "text": [
            "[1, 2, 3, 1, 2, 3, 1, 2, 3, 1, 2, 3, 1, 2, 3]\n"
          ],
          "name": "stdout"
        }
      ]
    },
    {
      "cell_type": "code",
      "metadata": {
        "colab": {
          "base_uri": "https://localhost:8080/"
        },
        "id": "8BRl-ghqTmou",
        "outputId": "bad8a926-9821-42e3-e412-54e71c87c0c5"
      },
      "source": [
        "li1 = [1, 2, 3]\n",
        "li2 = [4, 5, 6]\n",
        "print(li1 + li2)"
      ],
      "execution_count": 16,
      "outputs": [
        {
          "output_type": "stream",
          "text": [
            "[1, 2, 3, 4, 5, 6]\n"
          ],
          "name": "stdout"
        }
      ]
    },
    {
      "cell_type": "code",
      "metadata": {
        "colab": {
          "base_uri": "https://localhost:8080/"
        },
        "id": "5hO52kJkT7rQ",
        "outputId": "2a717077-77a5-4592-86ba-7bd0846f6eb4"
      },
      "source": [
        "li = [5, 7, 0, 8, 6]\n",
        "for i in li:\n",
        "  print(i)"
      ],
      "execution_count": 18,
      "outputs": [
        {
          "output_type": "stream",
          "text": [
            "5\n",
            "7\n",
            "0\n",
            "8\n",
            "6\n"
          ],
          "name": "stdout"
        }
      ]
    },
    {
      "cell_type": "code",
      "metadata": {
        "colab": {
          "base_uri": "https://localhost:8080/"
        },
        "id": "YDCswEU_UdNb",
        "outputId": "0a85a64b-a48b-4bed-cf17-72066fda8c30"
      },
      "source": [
        "li= [1, 2, 3, 4 ,5]\n",
        "print(li)\n",
        "li[2] = 9\n",
        "print(li)"
      ],
      "execution_count": 20,
      "outputs": [
        {
          "output_type": "stream",
          "text": [
            "[1, 2, 3, 4, 5]\n",
            "[1, 2, 9, 4, 5]\n"
          ],
          "name": "stdout"
        }
      ]
    },
    {
      "cell_type": "code",
      "metadata": {
        "colab": {
          "base_uri": "https://localhost:8080/",
          "height": 231
        },
        "id": "IEf5l2wWVv3Z",
        "outputId": "ae6d85e6-4cad-4827-af33-49b8fc0a58bb"
      },
      "source": [
        "s=('welcome')\n",
        "print(s)\n",
        "s[3] ='d'\n",
        "print(s)"
      ],
      "execution_count": 24,
      "outputs": [
        {
          "output_type": "stream",
          "text": [
            "welcome\n"
          ],
          "name": "stdout"
        },
        {
          "output_type": "error",
          "ename": "TypeError",
          "evalue": "ignored",
          "traceback": [
            "\u001b[0;31m---------------------------------------------------------------------------\u001b[0m",
            "\u001b[0;31mTypeError\u001b[0m                                 Traceback (most recent call last)",
            "\u001b[0;32m<ipython-input-24-633faef7b013>\u001b[0m in \u001b[0;36m<module>\u001b[0;34m()\u001b[0m\n\u001b[1;32m      1\u001b[0m \u001b[0ms\u001b[0m\u001b[0;34m=\u001b[0m\u001b[0;34m(\u001b[0m\u001b[0;34m'welcome'\u001b[0m\u001b[0;34m)\u001b[0m\u001b[0;34m\u001b[0m\u001b[0;34m\u001b[0m\u001b[0m\n\u001b[1;32m      2\u001b[0m \u001b[0mprint\u001b[0m\u001b[0;34m(\u001b[0m\u001b[0ms\u001b[0m\u001b[0;34m)\u001b[0m\u001b[0;34m\u001b[0m\u001b[0;34m\u001b[0m\u001b[0m\n\u001b[0;32m----> 3\u001b[0;31m \u001b[0ms\u001b[0m\u001b[0;34m[\u001b[0m\u001b[0;36m3\u001b[0m\u001b[0;34m]\u001b[0m \u001b[0;34m=\u001b[0m\u001b[0;34m'd'\u001b[0m\u001b[0;34m\u001b[0m\u001b[0;34m\u001b[0m\u001b[0m\n\u001b[0m\u001b[1;32m      4\u001b[0m \u001b[0mprint\u001b[0m\u001b[0;34m(\u001b[0m\u001b[0ms\u001b[0m\u001b[0;34m)\u001b[0m\u001b[0;34m\u001b[0m\u001b[0;34m\u001b[0m\u001b[0m\n",
            "\u001b[0;31mTypeError\u001b[0m: 'str' object does not support item assignment"
          ]
        }
      ]
    },
    {
      "cell_type": "code",
      "metadata": {
        "colab": {
          "base_uri": "https://localhost:8080/"
        },
        "id": "RIcN1X5TWI-0",
        "outputId": "3062c810-6444-4ed5-93a8-8285c8173903"
      },
      "source": [
        "# assignment take 2 inputs and store in variable x and y and find result of x*y\n",
        "\n",
        "x = 2\n",
        "y = 3\n",
        "print (x * x * x)"
      ],
      "execution_count": 28,
      "outputs": [
        {
          "output_type": "stream",
          "text": [
            "8\n"
          ],
          "name": "stdout"
        }
      ]
    },
    {
      "cell_type": "code",
      "metadata": {
        "id": "DfY7d-keXZcJ"
      },
      "source": [
        ""
      ],
      "execution_count": null,
      "outputs": []
    }
  ]
}